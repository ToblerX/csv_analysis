{
 "cells": [
  {
   "metadata": {},
   "cell_type": "raw",
   "source": "Today I'm learning some basics in analysing data. Working with a simple .csv file using 'pandas' for analysis and 'matplotlib.pyplot' for visualisation.",
   "id": "4726a3afe5646f5b"
  },
  {
   "metadata": {},
   "cell_type": "markdown",
   "source": "First, let's start with the dataset. I've randomly chosen ChocolateSales.csv because it seemed not so overwhelming and appropriate for the first attempts. You can download it right here https://www.kaggle.com/datasets/atharvasoundankar/chocolate-sales. It's free to use, so don't struggle :)",
   "id": "1ede30b550f238fa"
  },
  {
   "metadata": {},
   "cell_type": "markdown",
   "source": "",
   "id": "8873850b058da20a"
  }
 ],
 "metadata": {
  "kernelspec": {
   "display_name": "Python 3",
   "language": "python",
   "name": "python3"
  },
  "language_info": {
   "codemirror_mode": {
    "name": "ipython",
    "version": 2
   },
   "file_extension": ".py",
   "mimetype": "text/x-python",
   "name": "python",
   "nbconvert_exporter": "python",
   "pygments_lexer": "ipython2",
   "version": "2.7.6"
  }
 },
 "nbformat": 4,
 "nbformat_minor": 5
}

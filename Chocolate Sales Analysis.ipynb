{
 "cells": [
  {
   "metadata": {},
   "cell_type": "raw",
   "source": "Today I'm learning some basics in analysing data. Working with a simple .csv file using 'pandas' for analysis and 'matplotlib.pyplot' for visualisation.",
   "id": "4726a3afe5646f5b",
   "outputs": null,
   "execution_count": null
  },
  {
   "metadata": {},
   "cell_type": "markdown",
   "source": "First, let's start with the dataset. I've randomly chosen ChocolateSales.csv because it seemed not so overwhelming and appropriate for the first attempts. You can download it right here https://www.kaggle.com/datasets/atharvasoundankar/chocolate-sales. It's free to use, so don't struggle :)",
   "id": "1ede30b550f238fa"
  },
  {
   "metadata": {},
   "cell_type": "markdown",
   "source": "In the main.py you may find the final code, with the most important analysis and charts with no extra commands. So, feel free to explore.",
   "id": "8873850b058da20a"
  },
  {
   "metadata": {},
   "cell_type": "markdown",
   "source": " Let's start with importing the 'pandas' library:",
   "id": "52c0e82fcf13dbf7"
  },
  {
   "metadata": {
    "ExecuteTime": {
     "end_time": "2025-03-28T06:38:14.406046Z",
     "start_time": "2025-03-28T06:38:13.019257Z"
    }
   },
   "cell_type": "code",
   "source": "import pandas as pd",
   "id": "af6b4cea39b2afe1",
   "outputs": [],
   "execution_count": 1
  },
  {
   "metadata": {},
   "cell_type": "markdown",
   "source": [
    "Using pd as a shortcut for it as long as we are going to use it plenty of times.\n",
    "So, our first task is to read a raw .csv file that we have downloaded:"
   ],
   "id": "a8e4446f44e198b1"
  },
  {
   "metadata": {
    "ExecuteTime": {
     "end_time": "2025-03-28T06:40:58.976224Z",
     "start_time": "2025-03-28T06:40:58.956613Z"
    }
   },
   "cell_type": "code",
   "source": "data = pd.read_csv('./data/Chocolate Sales.csv')",
   "id": "c4b813b8fbab86e5",
   "outputs": [],
   "execution_count": 3
  }
 ],
 "metadata": {
  "kernelspec": {
   "display_name": "Python 3",
   "language": "python",
   "name": "python3"
  },
  "language_info": {
   "codemirror_mode": {
    "name": "ipython",
    "version": 2
   },
   "file_extension": ".py",
   "mimetype": "text/x-python",
   "name": "python",
   "nbconvert_exporter": "python",
   "pygments_lexer": "ipython2",
   "version": "2.7.6"
  }
 },
 "nbformat": 4,
 "nbformat_minor": 5
}

{
 "cells": [
  {
   "metadata": {},
   "cell_type": "raw",
   "source": "Today I'm learning some basics in analysing data. Working with a simple .csv file using 'pandas' for analysis and 'matplotlib.pyplot' for visualisation.",
   "id": "4726a3afe5646f5b",
   "outputs": null,
   "execution_count": null
  },
  {
   "metadata": {},
   "cell_type": "markdown",
   "source": "First, let's start with the dataset. I've randomly chosen ChocolateSales.csv because it seemed not so overwhelming and appropriate for the first attempts. You can download it right here https://www.kaggle.com/datasets/atharvasoundankar/chocolate-sales. It's free to use, so don't struggle :)",
   "id": "1ede30b550f238fa"
  },
  {
   "metadata": {},
   "cell_type": "markdown",
   "source": "In the main.py you may find the final code, with the most important analysis and charts with no extra commands. So, feel free to explore.",
   "id": "8873850b058da20a"
  },
  {
   "metadata": {},
   "cell_type": "markdown",
   "source": " Let's start with importing the 'pandas' library:",
   "id": "52c0e82fcf13dbf7"
  },
  {
   "metadata": {
    "ExecuteTime": {
     "end_time": "2025-03-28T14:56:59.106777Z",
     "start_time": "2025-03-28T14:56:59.094026Z"
    }
   },
   "cell_type": "code",
   "source": "import pandas as pd",
   "id": "af6b4cea39b2afe1",
   "outputs": [],
   "execution_count": 55
  },
  {
   "metadata": {},
   "cell_type": "markdown",
   "source": [
    "Using pd as a shortcut for it as long as we are going to use it plenty of times.\n",
    "So, our first task is to read a raw .csv file that we have downloaded:"
   ],
   "id": "a8e4446f44e198b1"
  },
  {
   "metadata": {
    "ExecuteTime": {
     "end_time": "2025-03-28T14:57:00.152334Z",
     "start_time": "2025-03-28T14:57:00.139508Z"
    }
   },
   "cell_type": "code",
   "source": "data = pd.read_csv('./data/Chocolate Sales.csv')",
   "id": "c4b813b8fbab86e5",
   "outputs": [],
   "execution_count": 56
  },
  {
   "metadata": {},
   "cell_type": "markdown",
   "source": "Let's explore how our dataset looks like:",
   "id": "c40a574fe609f43e"
  },
  {
   "metadata": {
    "ExecuteTime": {
     "end_time": "2025-03-28T14:57:00.971920Z",
     "start_time": "2025-03-28T14:57:00.956265Z"
    }
   },
   "cell_type": "code",
   "source": [
    "print(data.head())\n",
    "print(data.info())\n",
    "print(data.describe(include='all'))"
   ],
   "id": "414daffdbfb1a962",
   "outputs": [
    {
     "name": "stdout",
     "output_type": "stream",
     "text": [
      "     Sales Person    Country              Product       Date    Amount  \\\n",
      "0  Jehu Rudeforth         UK      Mint Chip Choco  04-Jan-22   $5,320    \n",
      "1     Van Tuxwell      India        85% Dark Bars  01-Aug-22   $7,896    \n",
      "2    Gigi Bohling      India  Peanut Butter Cubes  07-Jul-22   $4,501    \n",
      "3    Jan Morforth  Australia  Peanut Butter Cubes  27-Apr-22  $12,726    \n",
      "4  Jehu Rudeforth         UK  Peanut Butter Cubes  24-Feb-22  $13,685    \n",
      "\n",
      "   Boxes Shipped  \n",
      "0            180  \n",
      "1             94  \n",
      "2             91  \n",
      "3            342  \n",
      "4            184  \n",
      "<class 'pandas.core.frame.DataFrame'>\n",
      "RangeIndex: 1094 entries, 0 to 1093\n",
      "Data columns (total 6 columns):\n",
      " #   Column         Non-Null Count  Dtype \n",
      "---  ------         --------------  ----- \n",
      " 0   Sales Person   1094 non-null   object\n",
      " 1   Country        1094 non-null   object\n",
      " 2   Product        1094 non-null   object\n",
      " 3   Date           1094 non-null   object\n",
      " 4   Amount         1094 non-null   object\n",
      " 5   Boxes Shipped  1094 non-null   int64 \n",
      "dtypes: int64(1), object(5)\n",
      "memory usage: 51.4+ KB\n",
      "None\n",
      "         Sales Person    Country  Product       Date   Amount  Boxes Shipped\n",
      "count            1094       1094     1094       1094     1094    1094.000000\n",
      "unique             25          6       22        168      827            NaN\n",
      "top     Kelci Walkden  Australia  Eclairs  30-Jun-22  $2,317             NaN\n",
      "freq               54        205       60         16        5            NaN\n",
      "mean              NaN        NaN      NaN        NaN      NaN     161.797989\n",
      "std               NaN        NaN      NaN        NaN      NaN     121.544145\n",
      "min               NaN        NaN      NaN        NaN      NaN       1.000000\n",
      "25%               NaN        NaN      NaN        NaN      NaN      70.000000\n",
      "50%               NaN        NaN      NaN        NaN      NaN     135.000000\n",
      "75%               NaN        NaN      NaN        NaN      NaN     228.750000\n",
      "max               NaN        NaN      NaN        NaN      NaN     709.000000\n"
     ]
    }
   ],
   "execution_count": 57
  },
  {
   "metadata": {},
   "cell_type": "markdown",
   "source": "Deleting spaces from columns' names for a more comfortable usage:",
   "id": "a14996933f0c2581"
  },
  {
   "metadata": {
    "ExecuteTime": {
     "end_time": "2025-03-28T14:57:03.923752Z",
     "start_time": "2025-03-28T14:57:03.916982Z"
    }
   },
   "cell_type": "code",
   "source": [
    "print(data.columns)\n",
    "data.columns = data.columns.str.replace(' ', '', regex=False) #regex=False is used to treat the ' ' literally\n",
    "print(data.columns)"
   ],
   "id": "40dae52be07a30d4",
   "outputs": [
    {
     "name": "stdout",
     "output_type": "stream",
     "text": [
      "Index(['Sales Person', 'Country', 'Product', 'Date', 'Amount',\n",
      "       'Boxes Shipped'],\n",
      "      dtype='object')\n",
      "Index(['SalesPerson', 'Country', 'Product', 'Date', 'Amount', 'BoxesShipped'], dtype='object')\n"
     ]
    }
   ],
   "execution_count": 58
  },
  {
   "metadata": {},
   "cell_type": "markdown",
   "source": "Let's parse the 'Date' column to the appropriate datetime64 format:",
   "id": "c85ec7cff3dea21"
  },
  {
   "metadata": {
    "ExecuteTime": {
     "end_time": "2025-03-28T14:57:05.297891Z",
     "start_time": "2025-03-28T14:57:05.280129Z"
    }
   },
   "cell_type": "code",
   "source": [
    "print(data['Date'].head(5))\n",
    "data['Date'] = pd.to_datetime(data['Date'], format='%d-%b-%y')\n",
    "print(data['Date'].head(5))"
   ],
   "id": "2a1eaca93e78926",
   "outputs": [
    {
     "name": "stdout",
     "output_type": "stream",
     "text": [
      "0    04-Jan-22\n",
      "1    01-Aug-22\n",
      "2    07-Jul-22\n",
      "3    27-Apr-22\n",
      "4    24-Feb-22\n",
      "Name: Date, dtype: object\n",
      "0   2022-01-04\n",
      "1   2022-08-01\n",
      "2   2022-07-07\n",
      "3   2022-04-27\n",
      "4   2022-02-24\n",
      "Name: Date, dtype: datetime64[ns]\n"
     ]
    }
   ],
   "execution_count": 59
  },
  {
   "metadata": {},
   "cell_type": "markdown",
   "source": "Format used here is directly connected with the dates' format in the file. So, we adjust the parameter to correctly parse it to the needed one (datetime64).\n",
   "id": "25ebfab5118a543b"
  },
  {
   "metadata": {},
   "cell_type": "markdown",
   "source": [
    "Perfect! Preparations are finished! Let's get down to fetching some statistics!\n",
    "Let's see the total number of boxes shipped:"
   ],
   "id": "b752797ff66ea8a2"
  },
  {
   "metadata": {
    "ExecuteTime": {
     "end_time": "2025-03-28T14:57:07.038097Z",
     "start_time": "2025-03-28T14:57:07.027839Z"
    }
   },
   "cell_type": "code",
   "source": "print(f\"Total number of shipped boxes: {data['BoxesShipped'].sum()}\")",
   "id": "51acb25c06d7a2b9",
   "outputs": [
    {
     "name": "stdout",
     "output_type": "stream",
     "text": [
      "Total number of shipped boxes: 177007\n"
     ]
    }
   ],
   "execution_count": 60
  },
  {
   "metadata": {},
   "cell_type": "markdown",
   "source": "Fetching the top sales person. We can use 'mode' function to get the list of the most common values in the specified column. Then we take the value with index '0' (which is the most frequent name appearing):",
   "id": "dbae6cd5493ac33c"
  },
  {
   "metadata": {
    "ExecuteTime": {
     "end_time": "2025-03-28T14:57:08.388171Z",
     "start_time": "2025-03-28T14:57:08.378370Z"
    }
   },
   "cell_type": "code",
   "source": "print(f\"Top sales person: {data['SalesPerson'].mode()[0]}\")",
   "id": "cd982e19b26e5adf",
   "outputs": [
    {
     "name": "stdout",
     "output_type": "stream",
     "text": [
      "Top sales person: Kelci Walkden\n"
     ]
    }
   ],
   "execution_count": 61
  },
  {
   "metadata": {},
   "cell_type": "markdown",
   "source": "Let's see the top 5 chocolate brands by the sales amount. We can do that by using the 'values_count()' function in order to count sales for different products. Then 'head(5)' to get the first 5 from the list. '.to_string(index=True, header=False)' lets us show the values (Brand names and sales times), but disable the column name (Products).",
   "id": "4c2500b74a9fda25"
  },
  {
   "metadata": {
    "ExecuteTime": {
     "end_time": "2025-03-28T14:57:09.567306Z",
     "start_time": "2025-03-28T14:57:09.552166Z"
    }
   },
   "cell_type": "code",
   "source": "print(f\"Top 5 products: \\n{data['Product'].value_counts().head(5).to_string(index=True, header=False)}\")",
   "id": "2fcbb50ba84b6cb5",
   "outputs": [
    {
     "name": "stdout",
     "output_type": "stream",
     "text": [
      "Top 5 products: \n",
      "Eclairs               60\n",
      "50% Dark Bites        60\n",
      "Smooth Sliky Salty    59\n",
      "White Choc            58\n",
      "Drinking Coco         56\n"
     ]
    }
   ],
   "execution_count": 62
  },
  {
   "metadata": {},
   "cell_type": "markdown",
   "source": [
    "And now let's fetch the most profitable month and the earnings for that period. But first we need some extra preparations.\n",
    "We need to:\n",
    "1 - Adjust the \"Amount\" column by parsing it to casual float\n",
    "2 - Add a \"Month\" column for better readability\n",
    "3 - Get the most profitable month\n",
    "4 - Get the exact total profit during this month"
   ],
   "id": "792f2774487cffac"
  },
  {
   "metadata": {
    "ExecuteTime": {
     "end_time": "2025-03-28T14:58:00.105844Z",
     "start_time": "2025-03-28T14:58:00.100379Z"
    }
   },
   "cell_type": "code",
   "source": [
    "# Ensure 'Amount' column is numeric (in case of any non-numeric values)\n",
    "data['Amount'] = data['Amount'].replace({'\\\\$': ''}, regex=True)  # Remove the dollar sign\n",
    "data['Amount'] = pd.to_numeric(data['Amount'], errors='coerce')\n",
    "\n",
    "# Extract the month and year to a new column\n",
    "data['Month'] = data['Date'].dt.to_period('M')\n",
    "\n",
    "# Group by Month and calculate the total profit (Amount) per month\n",
    "monthly_profit = data.groupby('Month')['Amount'].sum()\n",
    "\n",
    "# Find the most profitable month (keep as Period)\n",
    "most_profitable_month = monthly_profit.idxmax()\n",
    "\n",
    "# Get the total profit for the best month\n",
    "total_best_month_profit = monthly_profit.loc[most_profitable_month]\n",
    "\n",
    "# Format for display\n",
    "formatted_month = most_profitable_month.strftime('%B %Y')\n",
    "\n",
    "print(f\"Most profitable month: {formatted_month} - Total profit: {total_best_month_profit}\")"
   ],
   "id": "8a29a74b7ca4be58",
   "outputs": [
    {
     "name": "stdout",
     "output_type": "stream",
     "text": [
      "Most profitable month: June 2022 - Total profit: 10962.0\n"
     ]
    }
   ],
   "execution_count": 64
  },
  {
   "metadata": {},
   "cell_type": "markdown",
   "source": "Perfect! Now we can move on to construct some basic charts for the data visualisation.",
   "id": "7298538cbbfe35cb"
  },
  {
   "metadata": {
    "ExecuteTime": {
     "end_time": "2025-03-28T14:47:06.005106Z",
     "start_time": "2025-03-28T14:47:05.999402Z"
    }
   },
   "cell_type": "code",
   "outputs": [],
   "execution_count": 37,
   "source": "",
   "id": "5aaba56c2917fab0"
  }
 ],
 "metadata": {
  "kernelspec": {
   "display_name": "Python 3",
   "language": "python",
   "name": "python3"
  },
  "language_info": {
   "codemirror_mode": {
    "name": "ipython",
    "version": 2
   },
   "file_extension": ".py",
   "mimetype": "text/x-python",
   "name": "python",
   "nbconvert_exporter": "python",
   "pygments_lexer": "ipython2",
   "version": "2.7.6"
  }
 },
 "nbformat": 4,
 "nbformat_minor": 5
}

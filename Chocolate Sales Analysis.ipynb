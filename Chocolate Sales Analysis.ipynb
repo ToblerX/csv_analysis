{
 "cells": [
  {
   "metadata": {},
   "cell_type": "raw",
   "source": "Today I'm learning some basics in analysing data. Working with a simple .csv file using 'pandas' for analysis and 'matplotlib.pyplot' for visualisation.",
   "id": "4726a3afe5646f5b",
   "outputs": null,
   "execution_count": null
  },
  {
   "metadata": {},
   "cell_type": "markdown",
   "source": "First, let's start with the dataset. I've randomly chosen ChocolateSales.csv because it seemed not so overwhelming and appropriate for the first attempts. You can download it right here https://www.kaggle.com/datasets/atharvasoundankar/chocolate-sales. It's free to use, so don't struggle :)",
   "id": "1ede30b550f238fa"
  },
  {
   "metadata": {},
   "cell_type": "markdown",
   "source": "In the main.py you may find the final code, with the most important analysis and charts with no extra commands. So, feel free to explore.",
   "id": "8873850b058da20a"
  },
  {
   "metadata": {},
   "cell_type": "markdown",
   "source": " Let's start with importing the 'pandas' library:",
   "id": "52c0e82fcf13dbf7"
  },
  {
   "metadata": {
    "ExecuteTime": {
     "end_time": "2025-03-28T06:38:14.406046Z",
     "start_time": "2025-03-28T06:38:13.019257Z"
    }
   },
   "cell_type": "code",
   "source": "import pandas as pd",
   "id": "af6b4cea39b2afe1",
   "outputs": [],
   "execution_count": 1
  },
  {
   "metadata": {},
   "cell_type": "markdown",
   "source": [
    "Using pd as a shortcut for it as long as we are going to use it plenty of times.\n",
    "So, our first task is to read a raw .csv file that we have downloaded:"
   ],
   "id": "a8e4446f44e198b1"
  },
  {
   "metadata": {
    "ExecuteTime": {
     "end_time": "2025-03-28T06:59:17.650788Z",
     "start_time": "2025-03-28T06:59:17.634657Z"
    }
   },
   "cell_type": "code",
   "source": "data = pd.read_csv('./data/Chocolate Sales.csv')",
   "id": "c4b813b8fbab86e5",
   "outputs": [],
   "execution_count": 8
  },
  {
   "metadata": {},
   "cell_type": "markdown",
   "source": "Let's explore how our dataset looks like:",
   "id": "c40a574fe609f43e"
  },
  {
   "metadata": {
    "ExecuteTime": {
     "end_time": "2025-03-28T06:59:19.146104Z",
     "start_time": "2025-03-28T06:59:19.137180Z"
    }
   },
   "cell_type": "code",
   "source": "print(data.head())",
   "id": "414daffdbfb1a962",
   "outputs": [
    {
     "name": "stdout",
     "output_type": "stream",
     "text": [
      "     Sales Person    Country              Product       Date    Amount  \\\n",
      "0  Jehu Rudeforth         UK      Mint Chip Choco  04-Jan-22   $5,320    \n",
      "1     Van Tuxwell      India        85% Dark Bars  01-Aug-22   $7,896    \n",
      "2    Gigi Bohling      India  Peanut Butter Cubes  07-Jul-22   $4,501    \n",
      "3    Jan Morforth  Australia  Peanut Butter Cubes  27-Apr-22  $12,726    \n",
      "4  Jehu Rudeforth         UK  Peanut Butter Cubes  24-Feb-22  $13,685    \n",
      "\n",
      "   Boxes Shipped  \n",
      "0            180  \n",
      "1             94  \n",
      "2             91  \n",
      "3            342  \n",
      "4            184  \n"
     ]
    }
   ],
   "execution_count": 9
  },
  {
   "metadata": {},
   "cell_type": "markdown",
   "source": "Doing great! Let's delete the NaN rows (if they exist):",
   "id": "cd3a310b1e71ddfb"
  },
  {
   "metadata": {
    "ExecuteTime": {
     "end_time": "2025-03-28T06:59:22.758378Z",
     "start_time": "2025-03-28T06:59:22.744958Z"
    }
   },
   "cell_type": "code",
   "source": "data.dropna(inplace=True) #inplace=True means that we edit this exact object without creating new instances",
   "id": "5aaba56c2917fab0",
   "outputs": [],
   "execution_count": 10
  },
  {
   "metadata": {},
   "cell_type": "markdown",
   "source": "Deleting spaces from columns' names for a more comfortable usage:",
   "id": "a14996933f0c2581"
  },
  {
   "metadata": {
    "ExecuteTime": {
     "end_time": "2025-03-28T06:59:24.586179Z",
     "start_time": "2025-03-28T06:59:24.574082Z"
    }
   },
   "cell_type": "code",
   "source": [
    "print(data.columns)\n",
    "data.columns = data.columns.str.replace(' ', '', regex=False) #regex=False is used to treat the ' ' literally\n",
    "print(data.columns)"
   ],
   "id": "40dae52be07a30d4",
   "outputs": [
    {
     "name": "stdout",
     "output_type": "stream",
     "text": [
      "Index(['Sales Person', 'Country', 'Product', 'Date', 'Amount',\n",
      "       'Boxes Shipped'],\n",
      "      dtype='object')\n",
      "Index(['SalesPerson', 'Country', 'Product', 'Date', 'Amount', 'BoxesShipped'], dtype='object')\n"
     ]
    }
   ],
   "execution_count": 11
  },
  {
   "metadata": {},
   "cell_type": "markdown",
   "source": "Let's parse the 'Date' column to the appropriate datetime64 format:",
   "id": "c85ec7cff3dea21"
  },
  {
   "metadata": {
    "ExecuteTime": {
     "end_time": "2025-03-28T06:59:27.063267Z",
     "start_time": "2025-03-28T06:59:27.057927Z"
    }
   },
   "cell_type": "code",
   "source": [
    "print(data['Date'].head(5))\n",
    "data['Date'] = pd.to_datetime(data['Date'], format='%d-%b-%y')\n",
    "print(data['Date'].head(5))"
   ],
   "id": "2a1eaca93e78926",
   "outputs": [
    {
     "name": "stdout",
     "output_type": "stream",
     "text": [
      "0    04-Jan-22\n",
      "1    01-Aug-22\n",
      "2    07-Jul-22\n",
      "3    27-Apr-22\n",
      "4    24-Feb-22\n",
      "Name: Date, dtype: object\n",
      "0   2022-01-04\n",
      "1   2022-08-01\n",
      "2   2022-07-07\n",
      "3   2022-04-27\n",
      "4   2022-02-24\n",
      "Name: Date, dtype: datetime64[ns]\n"
     ]
    }
   ],
   "execution_count": 12
  },
  {
   "metadata": {},
   "cell_type": "markdown",
   "source": "Format used here is directly connected with the dates' format in the file. So, we adjust the parameter to correctly parse it to the needed one (datetime64).\n",
   "id": "25ebfab5118a543b"
  },
  {
   "metadata": {},
   "cell_type": "markdown",
   "source": "Perfect! Preparations are finished! Let's get down to fetching some statistics!",
   "id": "b752797ff66ea8a2"
  }
 ],
 "metadata": {
  "kernelspec": {
   "display_name": "Python 3",
   "language": "python",
   "name": "python3"
  },
  "language_info": {
   "codemirror_mode": {
    "name": "ipython",
    "version": 2
   },
   "file_extension": ".py",
   "mimetype": "text/x-python",
   "name": "python",
   "nbconvert_exporter": "python",
   "pygments_lexer": "ipython2",
   "version": "2.7.6"
  }
 },
 "nbformat": 4,
 "nbformat_minor": 5
}
